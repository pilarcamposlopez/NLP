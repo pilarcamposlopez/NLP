{
 "cells": [
  {
   "cell_type": "markdown",
   "metadata": {},
   "source": [
    "# Ejercicio de Procesado de Lenguaje Natural\n",
    "En este ejercicio vamos a utilizar las técnicas aprendidas de NLP para clasificar la tipología de un conjunto de reclamaciones ciudadanas.  \n",
    "Utilizaremos un modelo TF-IDF básico, y luego probaremos con bigrams y una reducción de dimensionalidad LSA para ver si obtenemos alguna mejora.\n",
    "\n",
    "### Importación librerías"
   ]
  },
  {
   "cell_type": "code",
   "execution_count": 1,
   "metadata": {},
   "outputs": [],
   "source": [
    "import pandas as pd\n",
    "import numpy as np\n",
    "import spacy\n",
    "pd.set_option('display.max_colwidth', -1)\n",
    "#Importa el resto de librerías necesarias"
   ]
  },
  {
   "cell_type": "markdown",
   "metadata": {},
   "source": [
    "### Carga de los datos\n",
    "El archivo CSV de datos tiene tres columnas:  \n",
    "- Observaciones: el texto (incidencia) a clasificar\n",
    "- Tipología: la clase (etiqueta) de cada incidencia\n",
    "- Original: característica binaria que no se usa en este problema"
   ]
  },
  {
   "cell_type": "code",
   "execution_count": 2,
   "metadata": {},
   "outputs": [],
   "source": [
    "df=pd.read_csv('./Data/incidencias.csv', sep=\";\")"
   ]
  },
  {
   "cell_type": "markdown",
   "metadata": {},
   "source": [
    "Muestra información del DataFrame y la cuenta de muestras en cada clase. ¿cuántas clases distintas hay? ¿están balanceadas?"
   ]
  },
  {
   "cell_type": "code",
   "execution_count": 3,
   "metadata": {},
   "outputs": [
    {
     "data": {
      "text/html": [
       "<div>\n",
       "<style scoped>\n",
       "    .dataframe tbody tr th:only-of-type {\n",
       "        vertical-align: middle;\n",
       "    }\n",
       "\n",
       "    .dataframe tbody tr th {\n",
       "        vertical-align: top;\n",
       "    }\n",
       "\n",
       "    .dataframe thead th {\n",
       "        text-align: right;\n",
       "    }\n",
       "</style>\n",
       "<table border=\"1\" class=\"dataframe\">\n",
       "  <thead>\n",
       "    <tr style=\"text-align: right;\">\n",
       "      <th></th>\n",
       "      <th>Tipología</th>\n",
       "      <th>Observaciones</th>\n",
       "      <th>Original</th>\n",
       "    </tr>\n",
       "  </thead>\n",
       "  <tbody>\n",
       "    <tr>\n",
       "      <th>0</th>\n",
       "      <td>Vía Pública</td>\n",
       "      <td>hay coches mal aparcados en la calle de los mayos</td>\n",
       "      <td>N</td>\n",
       "    </tr>\n",
       "    <tr>\n",
       "      <th>1</th>\n",
       "      <td>Vía Pública</td>\n",
       "      <td>las calles están llenas de mierdas de los perros por todas partes</td>\n",
       "      <td>N</td>\n",
       "    </tr>\n",
       "    <tr>\n",
       "      <th>2</th>\n",
       "      <td>Vía Pública</td>\n",
       "      <td>hay un socavón en la avenida de ademuz</td>\n",
       "      <td>N</td>\n",
       "    </tr>\n",
       "    <tr>\n",
       "      <th>3</th>\n",
       "      <td>Vía Pública</td>\n",
       "      <td>Rejilla metálica al lado de la carretera frente a casa de Catalina y Pepe en mal estado. Se ha producido una caída.</td>\n",
       "      <td>S</td>\n",
       "    </tr>\n",
       "    <tr>\n",
       "      <th>4</th>\n",
       "      <td>Vía Pública</td>\n",
       "      <td>Cada vez que hay una tormenta se llena la calle de tierra y piedras. Considero que deberían buscar una rápida solución. Gracias</td>\n",
       "      <td>S</td>\n",
       "    </tr>\n",
       "  </tbody>\n",
       "</table>\n",
       "</div>"
      ],
      "text/plain": [
       "     Tipología  \\\n",
       "0  Vía Pública   \n",
       "1  Vía Pública   \n",
       "2  Vía Pública   \n",
       "3  Vía Pública   \n",
       "4  Vía Pública   \n",
       "\n",
       "                                                                                                                     Observaciones  \\\n",
       "0  hay coches mal aparcados en la calle de los mayos                                                                                 \n",
       "1  las calles están llenas de mierdas de los perros por todas partes                                                                 \n",
       "2  hay un socavón en la avenida de ademuz                                                                                            \n",
       "3  Rejilla metálica al lado de la carretera frente a casa de Catalina y Pepe en mal estado. Se ha producido una caída.               \n",
       "4  Cada vez que hay una tormenta se llena la calle de tierra y piedras. Considero que deberían buscar una rápida solución. Gracias   \n",
       "\n",
       "  Original  \n",
       "0  N        \n",
       "1  N        \n",
       "2  N        \n",
       "3  S        \n",
       "4  S        "
      ]
     },
     "execution_count": 3,
     "metadata": {},
     "output_type": "execute_result"
    }
   ],
   "source": [
    "#completar\n",
    "df.head()"
   ]
  },
  {
   "cell_type": "code",
   "execution_count": 4,
   "metadata": {},
   "outputs": [
    {
     "name": "stdout",
     "output_type": "stream",
     "text": [
      "<class 'pandas.core.frame.DataFrame'>\n",
      "RangeIndex: 220 entries, 0 to 219\n",
      "Data columns (total 3 columns):\n",
      "Tipología        220 non-null object\n",
      "Observaciones    220 non-null object\n",
      "Original         174 non-null object\n",
      "dtypes: object(3)\n",
      "memory usage: 5.3+ KB\n"
     ]
    }
   ],
   "source": [
    "df.info()"
   ]
  },
  {
   "cell_type": "code",
   "execution_count": 5,
   "metadata": {},
   "outputs": [
    {
     "data": {
      "text/plain": [
       "Mobiliario Urbano                31\n",
       "Alumbrado                        31\n",
       "Parques y jardines               29\n",
       "Vía Pública                      28\n",
       "Limpieza                         28\n",
       "Agua                             27\n",
       "Alcantarillado                   26\n",
       "Plagas de insectos y roedores    20\n",
       "Name: Tipología, dtype: int64"
      ]
     },
     "execution_count": 5,
     "metadata": {},
     "output_type": "execute_result"
    }
   ],
   "source": [
    "df.Tipología.value_counts()"
   ]
  },
  {
   "cell_type": "markdown",
   "metadata": {},
   "source": [
    "Tenemos 220 valores y parece que están más o menos balanceados, en las cuales tenemos 8 clases distintas."
   ]
  },
  {
   "cell_type": "code",
   "execution_count": 32,
   "metadata": {},
   "outputs": [
    {
     "data": {
      "text/plain": [
       "220"
      ]
     },
     "execution_count": 32,
     "metadata": {},
     "output_type": "execute_result"
    }
   ],
   "source": [
    "df.Tipología.count()"
   ]
  },
  {
   "cell_type": "markdown",
   "metadata": {},
   "source": [
    "### Limpieza del texto\n",
    "Programa una función para limpiar el texto en los siguientes términos:  \n",
    "- Elimina los números (expresión regular `r'\\d+'`)  \n",
    "- Elimina los signos de puntuación\n",
    "- Convierte todas las palabras a minúscula"
   ]
  },
  {
   "cell_type": "code",
   "execution_count": 6,
   "metadata": {},
   "outputs": [],
   "source": [
    "#completar\n",
    "import re, string, spacy\n",
    "nlp=spacy.load('es_core_news_md')\n",
    "pattern2 = re.compile('[{}]'.format(re.escape(string.punctuation)))\n",
    "def clean_text(text):\n",
    "    \"\"\"Limpiamos las menciones y URL del texto. Luego convertimos en tokens\n",
    "    eliminamos los tokens que son signos de puntuación, convertimos en\n",
    "    minúsculas y quitamos signos de puntuación. Para terminar\n",
    "    volvemos a convertir en cadena de texto\"\"\"\n",
    "    text = re.sub(r'\\d+', '', text) #elimina números\n",
    "    tokens = nlp(text)\n",
    "    tokens = [tok.lower_ for tok in tokens if not tok.is_punct]\n",
    "    filtered_tokens = [pattern2.sub('', token) for token in tokens]\n",
    "    filtered_text = ' '.join(filtered_tokens)\n",
    "    \n",
    "    return filtered_text"
   ]
  },
  {
   "cell_type": "markdown",
   "metadata": {},
   "source": [
    "Aplica la función de limpieza a la columna 'Observaciones' del DataFrame"
   ]
  },
  {
   "cell_type": "code",
   "execution_count": 7,
   "metadata": {},
   "outputs": [],
   "source": [
    "#completar\n",
    "df.Observaciones=df.Observaciones.apply(clean_text)"
   ]
  },
  {
   "cell_type": "code",
   "execution_count": 8,
   "metadata": {},
   "outputs": [],
   "source": [
    "df=df[df.Observaciones!='']"
   ]
  },
  {
   "cell_type": "code",
   "execution_count": 9,
   "metadata": {},
   "outputs": [
    {
     "data": {
      "text/html": [
       "<div>\n",
       "<style scoped>\n",
       "    .dataframe tbody tr th:only-of-type {\n",
       "        vertical-align: middle;\n",
       "    }\n",
       "\n",
       "    .dataframe tbody tr th {\n",
       "        vertical-align: top;\n",
       "    }\n",
       "\n",
       "    .dataframe thead th {\n",
       "        text-align: right;\n",
       "    }\n",
       "</style>\n",
       "<table border=\"1\" class=\"dataframe\">\n",
       "  <thead>\n",
       "    <tr style=\"text-align: right;\">\n",
       "      <th></th>\n",
       "      <th>Tipología</th>\n",
       "      <th>Observaciones</th>\n",
       "      <th>Original</th>\n",
       "    </tr>\n",
       "  </thead>\n",
       "  <tbody>\n",
       "    <tr>\n",
       "      <th>0</th>\n",
       "      <td>Vía Pública</td>\n",
       "      <td>hay coches mal aparcados en la calle de los mayos</td>\n",
       "      <td>N</td>\n",
       "    </tr>\n",
       "    <tr>\n",
       "      <th>1</th>\n",
       "      <td>Vía Pública</td>\n",
       "      <td>las calles están llenas de mierdas de los perros por todas partes</td>\n",
       "      <td>N</td>\n",
       "    </tr>\n",
       "    <tr>\n",
       "      <th>2</th>\n",
       "      <td>Vía Pública</td>\n",
       "      <td>hay un socavón en la avenida de ademuz</td>\n",
       "      <td>N</td>\n",
       "    </tr>\n",
       "    <tr>\n",
       "      <th>3</th>\n",
       "      <td>Vía Pública</td>\n",
       "      <td>rejilla metálica al lado de la carretera frente a casa de catalina y pepe en mal estado se ha producido una caída</td>\n",
       "      <td>S</td>\n",
       "    </tr>\n",
       "    <tr>\n",
       "      <th>4</th>\n",
       "      <td>Vía Pública</td>\n",
       "      <td>cada vez que hay una tormenta se llena la calle de tierra y piedras considero que deberían buscar una rápida solución gracias</td>\n",
       "      <td>S</td>\n",
       "    </tr>\n",
       "  </tbody>\n",
       "</table>\n",
       "</div>"
      ],
      "text/plain": [
       "     Tipología  \\\n",
       "0  Vía Pública   \n",
       "1  Vía Pública   \n",
       "2  Vía Pública   \n",
       "3  Vía Pública   \n",
       "4  Vía Pública   \n",
       "\n",
       "                                                                                                                   Observaciones  \\\n",
       "0  hay coches mal aparcados en la calle de los mayos                                                                               \n",
       "1  las calles están llenas de mierdas de los perros por todas partes                                                               \n",
       "2  hay un socavón en la avenida de ademuz                                                                                          \n",
       "3  rejilla metálica al lado de la carretera frente a casa de catalina y pepe en mal estado se ha producido una caída               \n",
       "4  cada vez que hay una tormenta se llena la calle de tierra y piedras considero que deberían buscar una rápida solución gracias   \n",
       "\n",
       "  Original  \n",
       "0  N        \n",
       "1  N        \n",
       "2  N        \n",
       "3  S        \n",
       "4  S        "
      ]
     },
     "execution_count": 9,
     "metadata": {},
     "output_type": "execute_result"
    }
   ],
   "source": [
    "df.head()"
   ]
  },
  {
   "cell_type": "markdown",
   "metadata": {},
   "source": [
    "### Funciones auxiliares\n",
    "Completa estas funciones para calcular la matriz BoW y TF-IDF del Corpus de texto. La función `train_predict_evaluate_model` ya está definida por ti."
   ]
  },
  {
   "cell_type": "code",
   "execution_count": 33,
   "metadata": {},
   "outputs": [],
   "source": [
    "#función para extraer el modelo BoW del corpus\n",
    "from sklearn.feature_extraction.text import CountVectorizer\n",
    "\n",
    "def bow_extractor(corpus, ngram_range=(1,1), min_df=1, max_df=1.0):\n",
    "    \"\"\"Función que ajusta un modelo BoW sobre un corpus de texto\n",
    "    y devuelve el modelo y la matriz BoW\n",
    "    El corpus se debe pasar como una lista de strings.\"\"\"\n",
    "    #COMPLETAR\n",
    "    vectorizer = CountVectorizer(ngram_range=ngram_range, min_df=min_df, max_df=max_df)\n",
    "    features = vectorizer.fit_transform(corpus)\n",
    "    return vectorizer, features\n",
    "\n",
    "#función para extraer el modelo TF-IDF del corpus\n",
    "from sklearn.feature_extraction.text import TfidfVectorizer  \n",
    "\n",
    "def tfidf_extractor(corpus, ngram_range=(1,1), min_df=1, max_df=1.0):\n",
    "    \"\"\"Función que ajusta un modelo TF-IDF sobre un corpus de texto\n",
    "    y devuelve el modelo y la matriz TF-IDF\n",
    "    El corpus se debe pasar como una lista de strings.\"\"\"   \n",
    "    #COMPLETAR\n",
    "    vectorizer = TfidfVectorizer(ngram_range=ngram_range, min_df=min_df, max_df=max_df)\n",
    "    features = vectorizer.fit_transform(corpus)\n",
    "    return vectorizer, features\n",
    "\n",
    "from sklearn.metrics import classification_report    \n",
    "def train_predict_evaluate_model(classifier, \n",
    "                                 train_features, train_labels, \n",
    "                                 test_features, test_labels):\n",
    "    '''Función que entrena un clasificador, lo evalúa sobre un conjunto\n",
    "    de test, y muestra su rendimiento'''\n",
    "    # build model    \n",
    "    classifier.fit(train_features, train_labels)\n",
    "    # predict using model\n",
    "    predictions = classifier.predict(test_features) \n",
    "    # evaluate model prediction performance   \n",
    "    print(classification_report(test_labels, predictions))\n",
    "    return predictions "
   ]
  },
  {
   "cell_type": "markdown",
   "metadata": {},
   "source": [
    "### División del conjunto de datos\n",
    "Divide los datos en un conjunto de entrenamiento (`X_train`, `y_train`) y test (`X_test`, `y_test`) en una proporción 70-30:"
   ]
  },
  {
   "cell_type": "code",
   "execution_count": 34,
   "metadata": {},
   "outputs": [],
   "source": [
    "#Completar\n",
    "from sklearn.model_selection import train_test_split\n",
    "\n",
    "X_train, X_test, y_train, y_test = train_test_split(df['Observaciones'], \n",
    "                                                    df['Tipología'],\n",
    "                                                    test_size=0.3,\n",
    "                                                    random_state=0)"
   ]
  },
  {
   "cell_type": "markdown",
   "metadata": {},
   "source": [
    "## Clasificación\n",
    "Entrena un clasificador sobre el conjunto de TRAIN y valida en TEST.  \n",
    "Prueba con las matrices BoW y TF-IDF, y utiliza los siguientes clasificadores de la librería `scikit-learn`:  \n",
    "```python\n",
    "modelLR = LogisticRegression()\n",
    "modelNB = GaussianNB()\n",
    "modelSVM = SGDClassifier(loss='hinge', max_iter=100)\n",
    "```\n",
    "Guarda las predicciones de todos los modelos (luego la usarás para mostrar la matriz de confusión)"
   ]
  },
  {
   "cell_type": "code",
   "execution_count": 35,
   "metadata": {},
   "outputs": [],
   "source": [
    "# creamos los modelos\n",
    "from sklearn.linear_model import SGDClassifier\n",
    "from sklearn.linear_model import LogisticRegression\n",
    "from sklearn.naive_bayes import GaussianNB\n",
    "\n",
    "modelos = [('Logistic Regression', LogisticRegression()),\n",
    "           ('Naive Bayes', GaussianNB()),\n",
    "           ('Linear SVM', SGDClassifier(loss='hinge', max_iter=100))]"
   ]
  },
  {
   "cell_type": "markdown",
   "metadata": {},
   "source": [
    "### Entrenamos clasificadores con modelos TF-IDF"
   ]
  },
  {
   "cell_type": "code",
   "execution_count": 13,
   "metadata": {},
   "outputs": [
    {
     "name": "stdout",
     "output_type": "stream",
     "text": [
      "Modelo Logistic Regression con características TD-IDF\n",
      "                               precision    recall  f1-score   support\n",
      "\n",
      "                         Agua       0.80      0.50      0.62         8\n",
      "               Alcantarillado       1.00      0.50      0.67        10\n",
      "                    Alumbrado       0.69      0.82      0.75        11\n",
      "                     Limpieza       1.00      0.21      0.35        14\n",
      "            Mobiliario Urbano       0.26      0.71      0.38         7\n",
      "           Parques y jardines       0.38      1.00      0.56         5\n",
      "Plagas de insectos y roedores       1.00      1.00      1.00         3\n",
      "                  Vía Pública       0.40      0.25      0.31         8\n",
      "\n",
      "                     accuracy                           0.55        66\n",
      "                    macro avg       0.69      0.62      0.58        66\n",
      "                 weighted avg       0.73      0.55      0.54        66\n",
      "\n",
      "Modelo Naive Bayes con características TD-IDF\n",
      "                               precision    recall  f1-score   support\n",
      "\n",
      "                         Agua       0.75      0.38      0.50         8\n",
      "               Alcantarillado       0.62      1.00      0.77        10\n",
      "                    Alumbrado       0.62      0.73      0.67        11\n",
      "                     Limpieza       0.70      0.50      0.58        14\n",
      "            Mobiliario Urbano       0.43      0.43      0.43         7\n",
      "           Parques y jardines       0.33      0.60      0.43         5\n",
      "Plagas de insectos y roedores       0.67      0.67      0.67         3\n",
      "                  Vía Pública       0.50      0.25      0.33         8\n",
      "\n",
      "                     accuracy                           0.58        66\n",
      "                    macro avg       0.58      0.57      0.55        66\n",
      "                 weighted avg       0.60      0.58      0.56        66\n",
      "\n",
      "Modelo Linear SVM con características TD-IDF\n",
      "                               precision    recall  f1-score   support\n",
      "\n",
      "                         Agua       0.88      0.88      0.88         8\n",
      "               Alcantarillado       0.64      0.70      0.67        10\n",
      "                    Alumbrado       0.75      0.82      0.78        11\n",
      "                     Limpieza       0.82      0.64      0.72        14\n",
      "            Mobiliario Urbano       0.40      0.57      0.47         7\n",
      "           Parques y jardines       0.40      0.40      0.40         5\n",
      "Plagas de insectos y roedores       0.75      1.00      0.86         3\n",
      "                  Vía Pública       0.40      0.25      0.31         8\n",
      "\n",
      "                     accuracy                           0.65        66\n",
      "                    macro avg       0.63      0.66      0.63        66\n",
      "                 weighted avg       0.66      0.65      0.65        66\n",
      "\n"
     ]
    }
   ],
   "source": [
    "#calcula la matriz TF-IDF sobre conjunto de entrenamiento y test\n",
    "tfidf_vectorizer, tfidf_train_features = tfidf_extractor(X_train)\n",
    "tfidf_test_features = tfidf_vectorizer.transform(X_test)\n",
    "\n",
    "\n",
    "#entrena y valida los clasificadores\n",
    "for m, clf in modelos:\n",
    "    print('Modelo {} con características TD-IDF'.format(m))\n",
    "    tfidf_predictions = train_predict_evaluate_model(classifier=clf,\n",
    "                                           train_features= tfidf_train_features.toarray(),\n",
    "                                           train_labels=y_train,\n",
    "                                           test_features=tfidf_test_features.toarray(),\n",
    "                                           test_labels=y_test)"
   ]
  },
  {
   "cell_type": "markdown",
   "metadata": {},
   "source": [
    "### Entrenamos clasificadores con modelos BoW"
   ]
  },
  {
   "cell_type": "code",
   "execution_count": 14,
   "metadata": {},
   "outputs": [
    {
     "name": "stdout",
     "output_type": "stream",
     "text": [
      "Modelo Logistic Regression con características BoW\n",
      "                               precision    recall  f1-score   support\n",
      "\n",
      "                         Agua       1.00      0.75      0.86         8\n",
      "               Alcantarillado       0.45      0.50      0.48        10\n",
      "                    Alumbrado       0.89      0.73      0.80        11\n",
      "                     Limpieza       0.88      0.50      0.64        14\n",
      "            Mobiliario Urbano       0.29      0.71      0.42         7\n",
      "           Parques y jardines       0.44      0.80      0.57         5\n",
      "Plagas de insectos y roedores       1.00      1.00      1.00         3\n",
      "                  Vía Pública       0.67      0.25      0.36         8\n",
      "\n",
      "                     accuracy                           0.61        66\n",
      "                    macro avg       0.70      0.66      0.64        66\n",
      "                 weighted avg       0.71      0.61      0.62        66\n",
      "\n",
      "Modelo Naive Bayes con características BoW\n",
      "                               precision    recall  f1-score   support\n",
      "\n",
      "                         Agua       0.56      0.62      0.59         8\n",
      "               Alcantarillado       0.67      0.80      0.73        10\n",
      "                    Alumbrado       0.57      0.73      0.64        11\n",
      "                     Limpieza       0.73      0.57      0.64        14\n",
      "            Mobiliario Urbano       0.33      0.43      0.38         7\n",
      "           Parques y jardines       0.20      0.20      0.20         5\n",
      "Plagas de insectos y roedores       1.00      0.67      0.80         3\n",
      "                  Vía Pública       0.50      0.25      0.33         8\n",
      "\n",
      "                     accuracy                           0.56        66\n",
      "                    macro avg       0.57      0.53      0.54        66\n",
      "                 weighted avg       0.57      0.56      0.56        66\n",
      "\n",
      "Modelo Linear SVM con características BoW\n",
      "                               precision    recall  f1-score   support\n",
      "\n",
      "                         Agua       0.86      0.75      0.80         8\n",
      "               Alcantarillado       0.60      0.60      0.60        10\n",
      "                    Alumbrado       1.00      0.73      0.84        11\n",
      "                     Limpieza       0.78      0.50      0.61        14\n",
      "            Mobiliario Urbano       0.31      0.57      0.40         7\n",
      "           Parques y jardines       0.22      0.40      0.29         5\n",
      "Plagas de insectos y roedores       0.50      0.67      0.57         3\n",
      "                  Vía Pública       0.33      0.25      0.29         8\n",
      "\n",
      "                     accuracy                           0.56        66\n",
      "                    macro avg       0.57      0.56      0.55        66\n",
      "                 weighted avg       0.64      0.56      0.58        66\n",
      "\n"
     ]
    }
   ],
   "source": [
    "#calcula la matriz BoW sobre conjunto de entrenamiento y test\n",
    "bow_vectorizer, bow_train_features = bow_extractor(X_train)\n",
    "bow_test_features = bow_vectorizer.transform(X_test)\n",
    "#entrena y valida los clasificadores\n",
    "\n",
    "for m, clf in modelos:\n",
    "    print('Modelo {} con características BoW'.format(m))\n",
    "    BoW_predictions = train_predict_evaluate_model(classifier=clf,\n",
    "                                           train_features= bow_train_features.toarray(),\n",
    "                                           train_labels=y_train,\n",
    "                                           test_features=bow_test_features.toarray(),\n",
    "                                           test_labels=y_test)"
   ]
  },
  {
   "cell_type": "markdown",
   "metadata": {},
   "source": [
    "¿Cuál es el modelo que mejor funciona?  \n",
    "Muestra la matriz de confusión sobre el conjunto de test usando el siguiente código (debes sustituir `prediccion` por el array de predicciones de tu mejor modelo):"
   ]
  },
  {
   "cell_type": "markdown",
   "metadata": {},
   "source": [
    "En este caso el modelo que mejor funciona es el SVM con TF-IDF obteniendo un 65% de precisión en la predicción."
   ]
  },
  {
   "cell_type": "code",
   "execution_count": 15,
   "metadata": {},
   "outputs": [
    {
     "data": {
      "text/html": [
       "<div>\n",
       "<style scoped>\n",
       "    .dataframe tbody tr th:only-of-type {\n",
       "        vertical-align: middle;\n",
       "    }\n",
       "\n",
       "    .dataframe tbody tr th {\n",
       "        vertical-align: top;\n",
       "    }\n",
       "\n",
       "    .dataframe thead th {\n",
       "        text-align: right;\n",
       "    }\n",
       "</style>\n",
       "<table border=\"1\" class=\"dataframe\">\n",
       "  <thead>\n",
       "    <tr style=\"text-align: right;\">\n",
       "      <th>Prediccion</th>\n",
       "      <th>Agua</th>\n",
       "      <th>Alcantarillado</th>\n",
       "      <th>Alumbrado</th>\n",
       "      <th>Limpieza</th>\n",
       "      <th>Mobiliario Urbano</th>\n",
       "      <th>Parques y jardines</th>\n",
       "      <th>Plagas de insectos y roedores</th>\n",
       "      <th>Vía Pública</th>\n",
       "      <th>All</th>\n",
       "    </tr>\n",
       "    <tr>\n",
       "      <th>Real</th>\n",
       "      <th></th>\n",
       "      <th></th>\n",
       "      <th></th>\n",
       "      <th></th>\n",
       "      <th></th>\n",
       "      <th></th>\n",
       "      <th></th>\n",
       "      <th></th>\n",
       "      <th></th>\n",
       "    </tr>\n",
       "  </thead>\n",
       "  <tbody>\n",
       "    <tr>\n",
       "      <th>Agua</th>\n",
       "      <td>7</td>\n",
       "      <td>0</td>\n",
       "      <td>0</td>\n",
       "      <td>0</td>\n",
       "      <td>0</td>\n",
       "      <td>0</td>\n",
       "      <td>0</td>\n",
       "      <td>1</td>\n",
       "      <td>8</td>\n",
       "    </tr>\n",
       "    <tr>\n",
       "      <th>Alcantarillado</th>\n",
       "      <td>1</td>\n",
       "      <td>7</td>\n",
       "      <td>1</td>\n",
       "      <td>0</td>\n",
       "      <td>0</td>\n",
       "      <td>1</td>\n",
       "      <td>0</td>\n",
       "      <td>0</td>\n",
       "      <td>10</td>\n",
       "    </tr>\n",
       "    <tr>\n",
       "      <th>Alumbrado</th>\n",
       "      <td>0</td>\n",
       "      <td>0</td>\n",
       "      <td>9</td>\n",
       "      <td>0</td>\n",
       "      <td>1</td>\n",
       "      <td>0</td>\n",
       "      <td>1</td>\n",
       "      <td>0</td>\n",
       "      <td>11</td>\n",
       "    </tr>\n",
       "    <tr>\n",
       "      <th>Limpieza</th>\n",
       "      <td>0</td>\n",
       "      <td>1</td>\n",
       "      <td>0</td>\n",
       "      <td>9</td>\n",
       "      <td>2</td>\n",
       "      <td>0</td>\n",
       "      <td>0</td>\n",
       "      <td>2</td>\n",
       "      <td>14</td>\n",
       "    </tr>\n",
       "    <tr>\n",
       "      <th>Mobiliario Urbano</th>\n",
       "      <td>0</td>\n",
       "      <td>1</td>\n",
       "      <td>0</td>\n",
       "      <td>1</td>\n",
       "      <td>4</td>\n",
       "      <td>1</td>\n",
       "      <td>0</td>\n",
       "      <td>0</td>\n",
       "      <td>7</td>\n",
       "    </tr>\n",
       "    <tr>\n",
       "      <th>Parques y jardines</th>\n",
       "      <td>0</td>\n",
       "      <td>1</td>\n",
       "      <td>0</td>\n",
       "      <td>1</td>\n",
       "      <td>1</td>\n",
       "      <td>2</td>\n",
       "      <td>0</td>\n",
       "      <td>0</td>\n",
       "      <td>5</td>\n",
       "    </tr>\n",
       "    <tr>\n",
       "      <th>Plagas de insectos y roedores</th>\n",
       "      <td>0</td>\n",
       "      <td>0</td>\n",
       "      <td>0</td>\n",
       "      <td>0</td>\n",
       "      <td>0</td>\n",
       "      <td>0</td>\n",
       "      <td>3</td>\n",
       "      <td>0</td>\n",
       "      <td>3</td>\n",
       "    </tr>\n",
       "    <tr>\n",
       "      <th>Vía Pública</th>\n",
       "      <td>0</td>\n",
       "      <td>1</td>\n",
       "      <td>2</td>\n",
       "      <td>0</td>\n",
       "      <td>2</td>\n",
       "      <td>1</td>\n",
       "      <td>0</td>\n",
       "      <td>2</td>\n",
       "      <td>8</td>\n",
       "    </tr>\n",
       "    <tr>\n",
       "      <th>All</th>\n",
       "      <td>8</td>\n",
       "      <td>11</td>\n",
       "      <td>12</td>\n",
       "      <td>11</td>\n",
       "      <td>10</td>\n",
       "      <td>5</td>\n",
       "      <td>4</td>\n",
       "      <td>5</td>\n",
       "      <td>66</td>\n",
       "    </tr>\n",
       "  </tbody>\n",
       "</table>\n",
       "</div>"
      ],
      "text/plain": [
       "Prediccion                     Agua  Alcantarillado  Alumbrado  Limpieza  \\\n",
       "Real                                                                       \n",
       "Agua                           7     0               0          0          \n",
       "Alcantarillado                 1     7               1          0          \n",
       "Alumbrado                      0     0               9          0          \n",
       "Limpieza                       0     1               0          9          \n",
       "Mobiliario Urbano              0     1               0          1          \n",
       "Parques y jardines             0     1               0          1          \n",
       "Plagas de insectos y roedores  0     0               0          0          \n",
       "Vía Pública                    0     1               2          0          \n",
       "All                            8     11              12         11         \n",
       "\n",
       "Prediccion                     Mobiliario Urbano  Parques y jardines  \\\n",
       "Real                                                                   \n",
       "Agua                           0                  0                    \n",
       "Alcantarillado                 0                  1                    \n",
       "Alumbrado                      1                  0                    \n",
       "Limpieza                       2                  0                    \n",
       "Mobiliario Urbano              4                  1                    \n",
       "Parques y jardines             1                  2                    \n",
       "Plagas de insectos y roedores  0                  0                    \n",
       "Vía Pública                    2                  1                    \n",
       "All                            10                 5                    \n",
       "\n",
       "Prediccion                     Plagas de insectos y roedores  Vía Pública  All  \n",
       "Real                                                                            \n",
       "Agua                           0                              1            8    \n",
       "Alcantarillado                 0                              0            10   \n",
       "Alumbrado                      1                              0            11   \n",
       "Limpieza                       0                              2            14   \n",
       "Mobiliario Urbano              0                              0            7    \n",
       "Parques y jardines             0                              0            5    \n",
       "Plagas de insectos y roedores  3                              0            3    \n",
       "Vía Pública                    0                              2            8    \n",
       "All                            4                              5            66   "
      ]
     },
     "execution_count": 15,
     "metadata": {},
     "output_type": "execute_result"
    }
   ],
   "source": [
    "#Matriz de confusión para TF-IDF\n",
    "resultados = pd.DataFrame({'Real': y_test, 'Prediccion': tfidf_predictions})\n",
    "pd.crosstab(resultados['Real'], resultados['Prediccion'],margins=True)\n"
   ]
  },
  {
   "cell_type": "code",
   "execution_count": 16,
   "metadata": {},
   "outputs": [
    {
     "data": {
      "text/html": [
       "<div>\n",
       "<style scoped>\n",
       "    .dataframe tbody tr th:only-of-type {\n",
       "        vertical-align: middle;\n",
       "    }\n",
       "\n",
       "    .dataframe tbody tr th {\n",
       "        vertical-align: top;\n",
       "    }\n",
       "\n",
       "    .dataframe thead th {\n",
       "        text-align: right;\n",
       "    }\n",
       "</style>\n",
       "<table border=\"1\" class=\"dataframe\">\n",
       "  <thead>\n",
       "    <tr style=\"text-align: right;\">\n",
       "      <th>Prediccion</th>\n",
       "      <th>Agua</th>\n",
       "      <th>Alcantarillado</th>\n",
       "      <th>Alumbrado</th>\n",
       "      <th>Limpieza</th>\n",
       "      <th>Mobiliario Urbano</th>\n",
       "      <th>Parques y jardines</th>\n",
       "      <th>Plagas de insectos y roedores</th>\n",
       "      <th>Vía Pública</th>\n",
       "      <th>All</th>\n",
       "    </tr>\n",
       "    <tr>\n",
       "      <th>Real</th>\n",
       "      <th></th>\n",
       "      <th></th>\n",
       "      <th></th>\n",
       "      <th></th>\n",
       "      <th></th>\n",
       "      <th></th>\n",
       "      <th></th>\n",
       "      <th></th>\n",
       "      <th></th>\n",
       "    </tr>\n",
       "  </thead>\n",
       "  <tbody>\n",
       "    <tr>\n",
       "      <th>Agua</th>\n",
       "      <td>6</td>\n",
       "      <td>0</td>\n",
       "      <td>0</td>\n",
       "      <td>0</td>\n",
       "      <td>0</td>\n",
       "      <td>1</td>\n",
       "      <td>1</td>\n",
       "      <td>0</td>\n",
       "      <td>8</td>\n",
       "    </tr>\n",
       "    <tr>\n",
       "      <th>Alcantarillado</th>\n",
       "      <td>1</td>\n",
       "      <td>6</td>\n",
       "      <td>0</td>\n",
       "      <td>0</td>\n",
       "      <td>1</td>\n",
       "      <td>1</td>\n",
       "      <td>0</td>\n",
       "      <td>1</td>\n",
       "      <td>10</td>\n",
       "    </tr>\n",
       "    <tr>\n",
       "      <th>Alumbrado</th>\n",
       "      <td>0</td>\n",
       "      <td>0</td>\n",
       "      <td>8</td>\n",
       "      <td>0</td>\n",
       "      <td>0</td>\n",
       "      <td>2</td>\n",
       "      <td>1</td>\n",
       "      <td>0</td>\n",
       "      <td>11</td>\n",
       "    </tr>\n",
       "    <tr>\n",
       "      <th>Limpieza</th>\n",
       "      <td>0</td>\n",
       "      <td>1</td>\n",
       "      <td>0</td>\n",
       "      <td>7</td>\n",
       "      <td>5</td>\n",
       "      <td>0</td>\n",
       "      <td>0</td>\n",
       "      <td>1</td>\n",
       "      <td>14</td>\n",
       "    </tr>\n",
       "    <tr>\n",
       "      <th>Mobiliario Urbano</th>\n",
       "      <td>0</td>\n",
       "      <td>0</td>\n",
       "      <td>0</td>\n",
       "      <td>1</td>\n",
       "      <td>4</td>\n",
       "      <td>1</td>\n",
       "      <td>0</td>\n",
       "      <td>1</td>\n",
       "      <td>7</td>\n",
       "    </tr>\n",
       "    <tr>\n",
       "      <th>Parques y jardines</th>\n",
       "      <td>0</td>\n",
       "      <td>1</td>\n",
       "      <td>0</td>\n",
       "      <td>1</td>\n",
       "      <td>1</td>\n",
       "      <td>2</td>\n",
       "      <td>0</td>\n",
       "      <td>0</td>\n",
       "      <td>5</td>\n",
       "    </tr>\n",
       "    <tr>\n",
       "      <th>Plagas de insectos y roedores</th>\n",
       "      <td>0</td>\n",
       "      <td>0</td>\n",
       "      <td>0</td>\n",
       "      <td>0</td>\n",
       "      <td>0</td>\n",
       "      <td>0</td>\n",
       "      <td>2</td>\n",
       "      <td>1</td>\n",
       "      <td>3</td>\n",
       "    </tr>\n",
       "    <tr>\n",
       "      <th>Vía Pública</th>\n",
       "      <td>0</td>\n",
       "      <td>2</td>\n",
       "      <td>0</td>\n",
       "      <td>0</td>\n",
       "      <td>2</td>\n",
       "      <td>2</td>\n",
       "      <td>0</td>\n",
       "      <td>2</td>\n",
       "      <td>8</td>\n",
       "    </tr>\n",
       "    <tr>\n",
       "      <th>All</th>\n",
       "      <td>7</td>\n",
       "      <td>10</td>\n",
       "      <td>8</td>\n",
       "      <td>9</td>\n",
       "      <td>13</td>\n",
       "      <td>9</td>\n",
       "      <td>4</td>\n",
       "      <td>6</td>\n",
       "      <td>66</td>\n",
       "    </tr>\n",
       "  </tbody>\n",
       "</table>\n",
       "</div>"
      ],
      "text/plain": [
       "Prediccion                     Agua  Alcantarillado  Alumbrado  Limpieza  \\\n",
       "Real                                                                       \n",
       "Agua                           6     0               0          0          \n",
       "Alcantarillado                 1     6               0          0          \n",
       "Alumbrado                      0     0               8          0          \n",
       "Limpieza                       0     1               0          7          \n",
       "Mobiliario Urbano              0     0               0          1          \n",
       "Parques y jardines             0     1               0          1          \n",
       "Plagas de insectos y roedores  0     0               0          0          \n",
       "Vía Pública                    0     2               0          0          \n",
       "All                            7     10              8          9          \n",
       "\n",
       "Prediccion                     Mobiliario Urbano  Parques y jardines  \\\n",
       "Real                                                                   \n",
       "Agua                           0                  1                    \n",
       "Alcantarillado                 1                  1                    \n",
       "Alumbrado                      0                  2                    \n",
       "Limpieza                       5                  0                    \n",
       "Mobiliario Urbano              4                  1                    \n",
       "Parques y jardines             1                  2                    \n",
       "Plagas de insectos y roedores  0                  0                    \n",
       "Vía Pública                    2                  2                    \n",
       "All                            13                 9                    \n",
       "\n",
       "Prediccion                     Plagas de insectos y roedores  Vía Pública  All  \n",
       "Real                                                                            \n",
       "Agua                           1                              0            8    \n",
       "Alcantarillado                 0                              1            10   \n",
       "Alumbrado                      1                              0            11   \n",
       "Limpieza                       0                              1            14   \n",
       "Mobiliario Urbano              0                              1            7    \n",
       "Parques y jardines             0                              0            5    \n",
       "Plagas de insectos y roedores  2                              1            3    \n",
       "Vía Pública                    0                              2            8    \n",
       "All                            4                              6            66   "
      ]
     },
     "execution_count": 16,
     "metadata": {},
     "output_type": "execute_result"
    }
   ],
   "source": [
    "#Matriz de confusión para BoW\n",
    "resultados = pd.DataFrame({'Real': y_test, 'Prediccion': BoW_predictions})\n",
    "pd.crosstab(resultados['Real'], resultados['Prediccion'],margins=True)"
   ]
  },
  {
   "cell_type": "markdown",
   "metadata": {},
   "source": [
    "Vemos que palabraas son más relevantes en el modelo que hemos escogido"
   ]
  },
  {
   "cell_type": "code",
   "execution_count": 50,
   "metadata": {},
   "outputs": [],
   "source": [
    "# # obtenemos los nombres de las características numpy array\n",
    "# feature_names = np.array(tfidf_vectorizer.get_feature_names())\n",
    "\n",
    "# # Ordenamos los coeficientes del modelo\n",
    "# sorted_coef_index = modelos(1).coef_[0].argsort()\n",
    "\n",
    "# # Listamos los 10 coeficientes menores y mayores\n",
    "# print('Menores Coefs:\\n{}\\n'.format(feature_names[sorted_coef_index[:10]]))\n",
    "# print('Mayores Coefs: \\n{}'.format(feature_names[sorted_coef_index[:-11:-1]]))\n"
   ]
  },
  {
   "cell_type": "markdown",
   "metadata": {},
   "source": [
    "### Mejoras del clasificador\n",
    "Como actividad opcional, intenta mejorar los resultados de estos clasificadores utilizando otras técnicas, como por ejemplo:  \n",
    "- Distintos clasificadores a los utilizados\n",
    "- Realizando una reducción de dimensionalidad LDA o LSA del texto\n",
    "- Utilizando una matriz de características basada en Word Vectors o Paragraph Vectors"
   ]
  },
  {
   "cell_type": "markdown",
   "metadata": {},
   "source": [
    "#### Lematizar"
   ]
  },
  {
   "cell_type": "code",
   "execution_count": 51,
   "metadata": {},
   "outputs": [],
   "source": [
    "def lemmatize_text(text):\n",
    "    \"\"\"Convertimos el texto a tokens, extraemos el lema de cada token\n",
    "    y volvemos a convertir en cadena de texto\"\"\"\n",
    "    tokens = nlp(text)\n",
    "    lemmatized_tokens = [tok.lemma_ for tok in tokens]\n",
    "    lemmatized_text = ' '.join(lemmatized_tokens)\n",
    "    \n",
    "    return lemmatized_text"
   ]
  },
  {
   "cell_type": "code",
   "execution_count": 19,
   "metadata": {},
   "outputs": [],
   "source": [
    "df[\"lemas\"]=df.Observaciones.apply(lemmatize_text)"
   ]
  },
  {
   "cell_type": "code",
   "execution_count": 20,
   "metadata": {},
   "outputs": [
    {
     "data": {
      "text/html": [
       "<div>\n",
       "<style scoped>\n",
       "    .dataframe tbody tr th:only-of-type {\n",
       "        vertical-align: middle;\n",
       "    }\n",
       "\n",
       "    .dataframe tbody tr th {\n",
       "        vertical-align: top;\n",
       "    }\n",
       "\n",
       "    .dataframe thead th {\n",
       "        text-align: right;\n",
       "    }\n",
       "</style>\n",
       "<table border=\"1\" class=\"dataframe\">\n",
       "  <thead>\n",
       "    <tr style=\"text-align: right;\">\n",
       "      <th></th>\n",
       "      <th>Tipología</th>\n",
       "      <th>Observaciones</th>\n",
       "      <th>Original</th>\n",
       "      <th>lemas</th>\n",
       "    </tr>\n",
       "  </thead>\n",
       "  <tbody>\n",
       "    <tr>\n",
       "      <th>0</th>\n",
       "      <td>Vía Pública</td>\n",
       "      <td>hay coches mal aparcados en la calle de los mayos</td>\n",
       "      <td>N</td>\n",
       "      <td>haber coche mal aparcar en lo callar de lo mayo</td>\n",
       "    </tr>\n",
       "    <tr>\n",
       "      <th>1</th>\n",
       "      <td>Vía Pública</td>\n",
       "      <td>las calles están llenas de mierdas de los perros por todas partes</td>\n",
       "      <td>N</td>\n",
       "      <td>los calle estar lleno de mierda de lo perro por todo partir</td>\n",
       "    </tr>\n",
       "    <tr>\n",
       "      <th>2</th>\n",
       "      <td>Vía Pública</td>\n",
       "      <td>hay un socavón en la avenida de ademuz</td>\n",
       "      <td>N</td>\n",
       "      <td>haber uno socavón en lo avenir de ademuz</td>\n",
       "    </tr>\n",
       "    <tr>\n",
       "      <th>3</th>\n",
       "      <td>Vía Pública</td>\n",
       "      <td>rejilla metálica al lado de la carretera frente a casa de catalina y pepe en mal estado se ha producido una caída</td>\n",
       "      <td>S</td>\n",
       "      <td>rejilla metálico al lado de lo carretero frente a casar de catalina y pepe en mal estar se haber producir uno caer</td>\n",
       "    </tr>\n",
       "    <tr>\n",
       "      <th>4</th>\n",
       "      <td>Vía Pública</td>\n",
       "      <td>cada vez que hay una tormenta se llena la calle de tierra y piedras considero que deberían buscar una rápida solución gracias</td>\n",
       "      <td>S</td>\n",
       "      <td>cada vez que haber uno tormenta se lleno lo callar de tierra y piedra considerar que deber buscar uno rápido solución gracia</td>\n",
       "    </tr>\n",
       "  </tbody>\n",
       "</table>\n",
       "</div>"
      ],
      "text/plain": [
       "     Tipología  \\\n",
       "0  Vía Pública   \n",
       "1  Vía Pública   \n",
       "2  Vía Pública   \n",
       "3  Vía Pública   \n",
       "4  Vía Pública   \n",
       "\n",
       "                                                                                                                   Observaciones  \\\n",
       "0  hay coches mal aparcados en la calle de los mayos                                                                               \n",
       "1  las calles están llenas de mierdas de los perros por todas partes                                                               \n",
       "2  hay un socavón en la avenida de ademuz                                                                                          \n",
       "3  rejilla metálica al lado de la carretera frente a casa de catalina y pepe en mal estado se ha producido una caída               \n",
       "4  cada vez que hay una tormenta se llena la calle de tierra y piedras considero que deberían buscar una rápida solución gracias   \n",
       "\n",
       "  Original  \\\n",
       "0  N         \n",
       "1  N         \n",
       "2  N         \n",
       "3  S         \n",
       "4  S         \n",
       "\n",
       "                                                                                                                          lemas  \n",
       "0  haber coche mal aparcar en lo callar de lo mayo                                                                               \n",
       "1  los calle estar lleno de mierda de lo perro por todo partir                                                                   \n",
       "2  haber uno socavón en lo avenir de ademuz                                                                                      \n",
       "3  rejilla metálico al lado de lo carretero frente a casar de catalina y pepe en mal estar se haber producir uno caer            \n",
       "4  cada vez que haber uno tormenta se lleno lo callar de tierra y piedra considerar que deber buscar uno rápido solución gracia  "
      ]
     },
     "execution_count": 20,
     "metadata": {},
     "output_type": "execute_result"
    }
   ],
   "source": [
    "df.head()"
   ]
  },
  {
   "cell_type": "code",
   "execution_count": 21,
   "metadata": {},
   "outputs": [],
   "source": [
    "X_train_lem, X_test_lem, y_train, y_test = train_test_split(df['lemas'], \n",
    "                                                    df['Tipología'],\n",
    "                                                    test_size=0.3,\n",
    "                                                    random_state=0)"
   ]
  },
  {
   "cell_type": "code",
   "execution_count": 22,
   "metadata": {},
   "outputs": [
    {
     "name": "stdout",
     "output_type": "stream",
     "text": [
      "Modelo Logistic Regression con características BoW\n",
      "                               precision    recall  f1-score   support\n",
      "\n",
      "                         Agua       1.00      0.62      0.77         8\n",
      "               Alcantarillado       0.75      0.60      0.67        10\n",
      "                    Alumbrado       0.83      0.91      0.87        11\n",
      "                     Limpieza       1.00      0.21      0.35        14\n",
      "            Mobiliario Urbano       0.40      0.86      0.55         7\n",
      "           Parques y jardines       0.36      1.00      0.53         5\n",
      "Plagas de insectos y roedores       0.75      1.00      0.86         3\n",
      "                  Vía Pública       0.40      0.25      0.31         8\n",
      "\n",
      "                     accuracy                           0.61        66\n",
      "                    macro avg       0.69      0.68      0.61        66\n",
      "                 weighted avg       0.74      0.61      0.59        66\n",
      "\n",
      "Modelo Naive Bayes con características BoW\n",
      "                               precision    recall  f1-score   support\n",
      "\n",
      "                         Agua       0.67      0.50      0.57         8\n",
      "               Alcantarillado       0.82      0.90      0.86        10\n",
      "                    Alumbrado       0.67      0.73      0.70        11\n",
      "                     Limpieza       0.71      0.36      0.48        14\n",
      "            Mobiliario Urbano       0.44      0.57      0.50         7\n",
      "           Parques y jardines       0.22      0.40      0.29         5\n",
      "Plagas de insectos y roedores       0.33      0.67      0.44         3\n",
      "                  Vía Pública       0.67      0.50      0.57         8\n",
      "\n",
      "                     accuracy                           0.58        66\n",
      "                    macro avg       0.57      0.58      0.55        66\n",
      "                 weighted avg       0.63      0.58      0.58        66\n",
      "\n",
      "Modelo Linear SVM con características BoW\n",
      "                               precision    recall  f1-score   support\n",
      "\n",
      "                         Agua       0.86      0.75      0.80         8\n",
      "               Alcantarillado       0.73      0.80      0.76        10\n",
      "                    Alumbrado       0.83      0.91      0.87        11\n",
      "                     Limpieza       0.83      0.36      0.50        14\n",
      "            Mobiliario Urbano       0.43      0.86      0.57         7\n",
      "           Parques y jardines       0.50      0.40      0.44         5\n",
      "Plagas de insectos y roedores       0.50      1.00      0.67         3\n",
      "                  Vía Pública       0.50      0.38      0.43         8\n",
      "\n",
      "                     accuracy                           0.65        66\n",
      "                    macro avg       0.65      0.68      0.63        66\n",
      "                 weighted avg       0.70      0.65      0.64        66\n",
      "\n"
     ]
    }
   ],
   "source": [
    "#calcula la matriz TF-IDF sobre conjunto de entrenamiento y test\n",
    "tfidf_vectorizer_lem, tfidf_train_features_lem = tfidf_extractor(X_train_lem)\n",
    "tfidf_test_features_lem = tfidf_vectorizer_lem.transform(X_test_lem)\n",
    "\n",
    "for m, clf in modelos:\n",
    "    print('Modelo {} con características BoW'.format(m))\n",
    "    tfidf_predictions = train_predict_evaluate_model(classifier=clf,\n",
    "                                           train_features= tfidf_train_features_lem.toarray(),\n",
    "                                           train_labels=y_train,\n",
    "                                           test_features=tfidf_test_features_lem.toarray(),\n",
    "                                           test_labels=y_test)\n"
   ]
  },
  {
   "cell_type": "markdown",
   "metadata": {},
   "source": [
    "Observamos que no existe una mejora en el accuracy lematizando el texto, seguimos teniendo un accuracy máximo del 65%"
   ]
  },
  {
   "cell_type": "markdown",
   "metadata": {},
   "source": [
    "#### Modelo con Latent Semantic Analysis\n",
    "Probamos ahora con el algoritmo LSA a ver si funciona mejor"
   ]
  },
  {
   "cell_type": "code",
   "execution_count": 23,
   "metadata": {},
   "outputs": [],
   "source": [
    "from sklearn.feature_extraction.text import TfidfVectorizer\n",
    "from sklearn.decomposition import TruncatedSVD\n",
    "from sklearn.preprocessing import Normalizer\n",
    "from sklearn.pipeline import make_pipeline\n",
    "\n",
    "def lsa_extractor(corpus, n_dim=50):\n",
    "    '''(vectorizer, features) = lsa_extractor(corpus, n_dim=50)\n",
    "    Función que genera un modelo Latent Semantic Analysis\n",
    "    sobre un corpus de texto (pasado como lista de textos)\n",
    "    utilizando n_dim dimensiones\n",
    "    Devuelve el modelo LSA ya entrenado y el vector sobre el corpus'''\n",
    "    \n",
    "    tfidf = TfidfVectorizer(use_idf=True)\n",
    "    svd = TruncatedSVD(n_dim)\n",
    "    vectorizer = make_pipeline(tfidf, svd, Normalizer(copy=False))\n",
    "    features = vectorizer.fit_transform(corpus)\n",
    "    return vectorizer, features"
   ]
  },
  {
   "cell_type": "markdown",
   "metadata": {},
   "source": [
    "Probamos nuestros modelos primero con 50 y con 200 a ver cómo funciona mejor"
   ]
  },
  {
   "cell_type": "code",
   "execution_count": 61,
   "metadata": {},
   "outputs": [
    {
     "name": "stdout",
     "output_type": "stream",
     "text": [
      "Modelo Logistic Regression con características LSA con 100 dim\n",
      "                               precision    recall  f1-score   support\n",
      "\n",
      "                         Agua       0.78      0.88      0.82         8\n",
      "               Alcantarillado       0.70      0.70      0.70        10\n",
      "                    Alumbrado       0.90      0.82      0.86        11\n",
      "                     Limpieza       1.00      0.43      0.60        14\n",
      "            Mobiliario Urbano       0.38      0.71      0.50         7\n",
      "           Parques y jardines       0.44      0.80      0.57         5\n",
      "Plagas de insectos y roedores       0.60      1.00      0.75         3\n",
      "                  Vía Pública       0.50      0.25      0.33         8\n",
      "\n",
      "                     accuracy                           0.65        66\n",
      "                    macro avg       0.66      0.70      0.64        66\n",
      "                 weighted avg       0.72      0.65      0.65        66\n",
      "\n",
      "Modelo Naive Bayes con características LSA con 100 dim\n",
      "                               precision    recall  f1-score   support\n",
      "\n",
      "                         Agua       0.43      0.38      0.40         8\n",
      "               Alcantarillado       0.67      0.80      0.73        10\n",
      "                    Alumbrado       0.55      0.55      0.55        11\n",
      "                     Limpieza       0.88      0.50      0.64        14\n",
      "            Mobiliario Urbano       0.42      0.71      0.53         7\n",
      "           Parques y jardines       0.40      0.80      0.53         5\n",
      "Plagas de insectos y roedores       1.00      0.67      0.80         3\n",
      "                  Vía Pública       0.75      0.38      0.50         8\n",
      "\n",
      "                     accuracy                           0.58        66\n",
      "                    macro avg       0.64      0.60      0.58        66\n",
      "                 weighted avg       0.64      0.58      0.58        66\n",
      "\n",
      "Modelo Linear SVM con características LSA con 100 dim\n",
      "                               precision    recall  f1-score   support\n",
      "\n",
      "                         Agua       1.00      0.62      0.77         8\n",
      "               Alcantarillado       0.64      0.90      0.75        10\n",
      "                    Alumbrado       0.89      0.73      0.80        11\n",
      "                     Limpieza       0.82      0.64      0.72        14\n",
      "            Mobiliario Urbano       0.67      0.57      0.62         7\n",
      "           Parques y jardines       0.30      0.60      0.40         5\n",
      "Plagas de insectos y roedores       0.43      1.00      0.60         3\n",
      "                  Vía Pública       0.50      0.25      0.33         8\n",
      "\n",
      "                     accuracy                           0.65        66\n",
      "                    macro avg       0.66      0.66      0.62        66\n",
      "                 weighted avg       0.71      0.65      0.66        66\n",
      "\n"
     ]
    }
   ],
   "source": [
    "#Creamos los vectores de características LSA con 50 dim\n",
    "lsa_vectorizer, lsa_train_features = lsa_extractor(X_train, n_dim=100)  \n",
    "lsa_test_features = lsa_vectorizer.transform(X_test)\n",
    "#entrenamos y validamos\n",
    "for m, clf in modelos:\n",
    "    print('Modelo {} con características LSA con 100 dim'.format(m))\n",
    "    tfidf_predictions = train_predict_evaluate_model(classifier=clf,\n",
    "                                           train_features=lsa_train_features,\n",
    "                                           train_labels=y_train,\n",
    "                                           test_features=lsa_test_features,\n",
    "                                           test_labels=y_test)"
   ]
  },
  {
   "cell_type": "code",
   "execution_count": 63,
   "metadata": {},
   "outputs": [
    {
     "name": "stdout",
     "output_type": "stream",
     "text": [
      "Modelo Logistic Regression con características LSA con 200 dim\n",
      "                               precision    recall  f1-score   support\n",
      "\n",
      "                         Agua       0.75      0.75      0.75         8\n",
      "               Alcantarillado       0.88      0.70      0.78        10\n",
      "                    Alumbrado       0.82      0.82      0.82        11\n",
      "                     Limpieza       1.00      0.29      0.44        14\n",
      "            Mobiliario Urbano       0.33      0.71      0.45         7\n",
      "           Parques y jardines       0.38      1.00      0.56         5\n",
      "Plagas de insectos y roedores       1.00      1.00      1.00         3\n",
      "                  Vía Pública       0.50      0.25      0.33         8\n",
      "\n",
      "                     accuracy                           0.62        66\n",
      "                    macro avg       0.71      0.69      0.64        66\n",
      "                 weighted avg       0.74      0.62      0.62        66\n",
      "\n",
      "Modelo Naive Bayes con características LSA con 200 dim\n",
      "                               precision    recall  f1-score   support\n",
      "\n",
      "                         Agua       0.15      1.00      0.25         8\n",
      "               Alcantarillado       1.00      0.10      0.18        10\n",
      "                    Alumbrado       0.50      0.09      0.15        11\n",
      "                     Limpieza       0.00      0.00      0.00        14\n",
      "            Mobiliario Urbano       1.00      0.14      0.25         7\n",
      "           Parques y jardines       0.14      0.20      0.17         5\n",
      "Plagas de insectos y roedores       0.00      0.00      0.00         3\n",
      "                  Vía Pública       0.00      0.00      0.00         8\n",
      "\n",
      "                     accuracy                           0.18        66\n",
      "                    macro avg       0.35      0.19      0.13        66\n",
      "                 weighted avg       0.37      0.18      0.12        66\n",
      "\n",
      "Modelo Linear SVM con características LSA con 200 dim\n",
      "                               precision    recall  f1-score   support\n",
      "\n",
      "                         Agua       1.00      0.62      0.77         8\n",
      "               Alcantarillado       0.82      0.90      0.86        10\n",
      "                    Alumbrado       0.82      0.82      0.82        11\n",
      "                     Limpieza       0.71      0.36      0.48        14\n",
      "            Mobiliario Urbano       0.33      0.57      0.42         7\n",
      "           Parques y jardines       0.22      0.40      0.29         5\n",
      "Plagas de insectos y roedores       0.43      1.00      0.60         3\n",
      "                  Vía Pública       0.50      0.25      0.33         8\n",
      "\n",
      "                     accuracy                           0.59        66\n",
      "                    macro avg       0.60      0.62      0.57        66\n",
      "                 weighted avg       0.67      0.59      0.59        66\n",
      "\n"
     ]
    },
    {
     "name": "stderr",
     "output_type": "stream",
     "text": [
      "C:\\Users\\Pilarica\\Anaconda3\\envs\\env_prueba2\\lib\\site-packages\\sklearn\\metrics\\_classification.py:1272: UndefinedMetricWarning: Precision and F-score are ill-defined and being set to 0.0 in labels with no predicted samples. Use `zero_division` parameter to control this behavior.\n",
      "  _warn_prf(average, modifier, msg_start, len(result))\n"
     ]
    }
   ],
   "source": [
    "#Creamos los vectores de características LSA con 200 dim\n",
    "lsa_vectorizer, lsa_train_features = lsa_extractor(X_train, n_dim=200)  \n",
    "lsa_test_features = lsa_vectorizer.transform(X_test)\n",
    "#entrenamos y validamos\n",
    "for m, clf in modelos:\n",
    "    print('Modelo {} con características LSA con 200 dim'.format(m))\n",
    "    tfidf_predictions = train_predict_evaluate_model(classifier=clf,\n",
    "                                           train_features=lsa_train_features,\n",
    "                                           train_labels=y_train,\n",
    "                                           test_features=lsa_test_features,\n",
    "                                           test_labels=y_test)"
   ]
  },
  {
   "cell_type": "markdown",
   "metadata": {},
   "source": [
    "Seguimos sin mejorar nuestro rendimiento."
   ]
  },
  {
   "cell_type": "markdown",
   "metadata": {},
   "source": [
    "#### Modelos n-gram"
   ]
  },
  {
   "cell_type": "code",
   "execution_count": 64,
   "metadata": {},
   "outputs": [
    {
     "data": {
      "text/plain": [
       "2128"
      ]
     },
     "execution_count": 64,
     "metadata": {},
     "output_type": "execute_result"
    }
   ],
   "source": [
    "# Entrenamos el modelo CountVectorizer con el conjunto de entrenamiento\n",
    "# como conjunto de unigrams y bigrams sobre todos los términos (min_df=1)\n",
    "vect_ngrams = CountVectorizer(min_df=1, ngram_range=(1,2)).fit(X_train)\n",
    "\n",
    "X_train_vectorized_Bow_ngram = vect_ngrams.transform(X_train)\n",
    "X_test_vectorized_Bow_ngram = vect_ngrams.transform(X_test)\n",
    "\n",
    "len(vect_ngrams.get_feature_names())"
   ]
  },
  {
   "cell_type": "markdown",
   "metadata": {},
   "source": [
    "Ahora el número de términos se incrementa mucho debido a la gran cantidad de bigramas a considerar. Vemos por ejemplo algunos de los términos considerados:"
   ]
  },
  {
   "cell_type": "code",
   "execution_count": 65,
   "metadata": {},
   "outputs": [
    {
     "data": {
      "text/plain": [
       "array(['esta en', 'muy', 'en fiestsa', 'valencia', 'carretera está',\n",
       "       'merendero hay', 'adecuada en', 'luces', 'oxidado',\n",
       "       'tapa alcantarillado'], dtype='<U25')"
      ]
     },
     "execution_count": 65,
     "metadata": {},
     "output_type": "execute_result"
    }
   ],
   "source": [
    "feature_names = np.array(vect_ngrams.get_feature_names())\n",
    "np.random.seed(1234)\n",
    "np.random.choice(feature_names, 10)"
   ]
  },
  {
   "cell_type": "markdown",
   "metadata": {},
   "source": [
    "Vemos si mejoran los clasificadores con esta matriz de características"
   ]
  },
  {
   "cell_type": "code",
   "execution_count": 67,
   "metadata": {},
   "outputs": [
    {
     "name": "stdout",
     "output_type": "stream",
     "text": [
      "Modelo Logistic Regression con características BoW unigrams y bigrams\n",
      "                               precision    recall  f1-score   support\n",
      "\n",
      "                         Agua       1.00      0.50      0.67         8\n",
      "               Alcantarillado       0.50      0.50      0.50        10\n",
      "                    Alumbrado       0.82      0.82      0.82        11\n",
      "                     Limpieza       0.78      0.50      0.61        14\n",
      "            Mobiliario Urbano       0.35      0.86      0.50         7\n",
      "           Parques y jardines       0.57      0.80      0.67         5\n",
      "Plagas de insectos y roedores       1.00      1.00      1.00         3\n",
      "                  Vía Pública       0.60      0.38      0.46         8\n",
      "\n",
      "                     accuracy                           0.62        66\n",
      "                    macro avg       0.70      0.67      0.65        66\n",
      "                 weighted avg       0.70      0.62      0.63        66\n",
      "\n",
      "Modelo Naive Bayes con características BoW unigrams y bigrams\n",
      "                               precision    recall  f1-score   support\n",
      "\n",
      "                         Agua       0.88      0.88      0.88         8\n",
      "               Alcantarillado       0.71      1.00      0.83        10\n",
      "                    Alumbrado       0.57      0.73      0.64        11\n",
      "                     Limpieza       0.82      0.64      0.72        14\n",
      "            Mobiliario Urbano       0.57      0.57      0.57         7\n",
      "           Parques y jardines       0.33      0.40      0.36         5\n",
      "Plagas de insectos y roedores       1.00      0.67      0.80         3\n",
      "                  Vía Pública       0.75      0.38      0.50         8\n",
      "\n",
      "                     accuracy                           0.68        66\n",
      "                    macro avg       0.70      0.66      0.66        66\n",
      "                 weighted avg       0.71      0.68      0.68        66\n",
      "\n",
      "Modelo Linear SVM con características BoW unigrams y bigrams\n",
      "                               precision    recall  f1-score   support\n",
      "\n",
      "                         Agua       0.50      0.88      0.64         8\n",
      "               Alcantarillado       0.83      0.50      0.62        10\n",
      "                    Alumbrado       0.64      0.82      0.72        11\n",
      "                     Limpieza       0.62      0.36      0.45        14\n",
      "            Mobiliario Urbano       0.44      0.57      0.50         7\n",
      "           Parques y jardines       0.75      0.60      0.67         5\n",
      "Plagas de insectos y roedores       0.40      0.67      0.50         3\n",
      "                  Vía Pública       0.33      0.25      0.29         8\n",
      "\n",
      "                     accuracy                           0.56        66\n",
      "                    macro avg       0.57      0.58      0.55        66\n",
      "                 weighted avg       0.59      0.56      0.55        66\n",
      "\n"
     ]
    }
   ],
   "source": [
    "for m, clf in modelos:\n",
    "    print('Modelo {} con características BoW unigrams y bigrams'.format(m))\n",
    "    tfidf_predictions = train_predict_evaluate_model(classifier=clf,\n",
    "                                           train_features=X_train_vectorized_Bow_ngram.toarray(),\n",
    "                                           train_labels=y_train,\n",
    "                                           test_features=X_test_vectorized_Bow_ngram.toarray(),\n",
    "                                           test_labels=y_test)"
   ]
  },
  {
   "cell_type": "markdown",
   "metadata": {},
   "source": [
    "En este caso observamos que mejora el modelo un 3% subiendo al 68% utilizando: Modelo Naive Bayes con características BoW unigrams y bigrams"
   ]
  },
  {
   "cell_type": "code",
   "execution_count": 68,
   "metadata": {},
   "outputs": [
    {
     "data": {
      "text/plain": [
       "2128"
      ]
     },
     "execution_count": 68,
     "metadata": {},
     "output_type": "execute_result"
    }
   ],
   "source": [
    "# Entrenamos el modelo CountVectorizer con el conjunto de entrenamiento\n",
    "# como conjunto de unigrams y bigrams sobre todos los términos (min_df=1)\n",
    "\n",
    "vect_ngrams = TfidfVectorizer(min_df=1, ngram_range=(1,2)).fit(X_train)\n",
    "\n",
    "X_train_vectorized_TIIDF_ngrams = vect_ngrams.transform(X_train)\n",
    "X_test_vectorized_TIIDF_ngrams = vect_ngrams.transform(X_test)\n",
    "\n",
    "len(vect_ngrams.get_feature_names())"
   ]
  },
  {
   "cell_type": "markdown",
   "metadata": {},
   "source": [
    "Probamos si existe alguna mejora haciendo un TF-IDF con ngrams"
   ]
  },
  {
   "cell_type": "code",
   "execution_count": 69,
   "metadata": {},
   "outputs": [
    {
     "name": "stdout",
     "output_type": "stream",
     "text": [
      "Modelo Logistic Regression con características BoW unigrams y bigrams\n",
      "                               precision    recall  f1-score   support\n",
      "\n",
      "                         Agua       0.80      0.50      0.62         8\n",
      "               Alcantarillado       1.00      0.50      0.67        10\n",
      "                    Alumbrado       0.60      0.82      0.69        11\n",
      "                     Limpieza       1.00      0.21      0.35        14\n",
      "            Mobiliario Urbano       0.32      0.86      0.46         7\n",
      "           Parques y jardines       0.38      1.00      0.56         5\n",
      "Plagas de insectos y roedores       1.00      0.67      0.80         3\n",
      "                  Vía Pública       0.50      0.25      0.33         8\n",
      "\n",
      "                     accuracy                           0.55        66\n",
      "                    macro avg       0.70      0.60      0.56        66\n",
      "                 weighted avg       0.73      0.55      0.53        66\n",
      "\n",
      "Modelo Naive Bayes con características BoW unigrams y bigrams\n",
      "                               precision    recall  f1-score   support\n",
      "\n",
      "                         Agua       0.80      0.50      0.62         8\n",
      "               Alcantarillado       0.71      1.00      0.83        10\n",
      "                    Alumbrado       0.62      0.73      0.67        11\n",
      "                     Limpieza       0.80      0.57      0.67        14\n",
      "            Mobiliario Urbano       0.57      0.57      0.57         7\n",
      "           Parques y jardines       0.30      0.60      0.40         5\n",
      "Plagas de insectos y roedores       0.67      0.67      0.67         3\n",
      "                  Vía Pública       0.75      0.38      0.50         8\n",
      "\n",
      "                     accuracy                           0.64        66\n",
      "                    macro avg       0.65      0.63      0.62        66\n",
      "                 weighted avg       0.68      0.64      0.64        66\n",
      "\n",
      "Modelo Linear SVM con características BoW unigrams y bigrams\n",
      "                               precision    recall  f1-score   support\n",
      "\n",
      "                         Agua       0.86      0.75      0.80         8\n",
      "               Alcantarillado       0.80      0.80      0.80        10\n",
      "                    Alumbrado       0.75      0.82      0.78        11\n",
      "                     Limpieza       0.86      0.43      0.57        14\n",
      "            Mobiliario Urbano       0.36      0.57      0.44         7\n",
      "           Parques y jardines       0.43      0.60      0.50         5\n",
      "Plagas de insectos y roedores       0.33      1.00      0.50         3\n",
      "                  Vía Pública       0.67      0.25      0.36         8\n",
      "\n",
      "                     accuracy                           0.62        66\n",
      "                    macro avg       0.63      0.65      0.60        66\n",
      "                 weighted avg       0.70      0.62      0.62        66\n",
      "\n"
     ]
    }
   ],
   "source": [
    "for m, clf in modelos:\n",
    "    print('Modelo {} con características BoW unigrams y bigrams'.format(m))\n",
    "    tfidf_predictions = train_predict_evaluate_model(classifier=clf,\n",
    "                                           train_features=X_train_vectorized_TIIDF_ngrams.toarray(),\n",
    "                                           train_labels=y_train,\n",
    "                                           test_features=X_test_vectorized_TIIDF_ngrams.toarray(),\n",
    "                                           test_labels=y_test)"
   ]
  },
  {
   "cell_type": "markdown",
   "metadata": {},
   "source": [
    "Vemos que no se produce ninguna mejora"
   ]
  },
  {
   "cell_type": "markdown",
   "metadata": {},
   "source": [
    "Por lo tanto, el mejor resultado obtenido después de probar distintas soluciones sería un 68% de accuracy obtenido utilizando un Modelo Naive Bayes con características BoW unigrams y bigrams"
   ]
  }
 ],
 "metadata": {
  "kernelspec": {
   "display_name": "Python 3",
   "language": "python",
   "name": "python3"
  },
  "language_info": {
   "codemirror_mode": {
    "name": "ipython",
    "version": 3
   },
   "file_extension": ".py",
   "mimetype": "text/x-python",
   "name": "python",
   "nbconvert_exporter": "python",
   "pygments_lexer": "ipython3",
   "version": "3.7.5"
  }
 },
 "nbformat": 4,
 "nbformat_minor": 4
}
